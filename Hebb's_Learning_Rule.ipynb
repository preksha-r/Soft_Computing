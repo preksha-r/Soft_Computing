{
  "nbformat": 4,
  "nbformat_minor": 0,
  "metadata": {
    "colab": {
      "provenance": []
    },
    "kernelspec": {
      "name": "python3",
      "display_name": "Python 3"
    },
    "language_info": {
      "name": "python"
    }
  },
  "cells": [
    {
      "cell_type": "markdown",
      "source": [
        "Implement a simple neural network using hebb's Learning Rule for training"
      ],
      "metadata": {
        "id": "2IJ-xIvNUm-2"
      }
    },
    {
      "cell_type": "code",
      "execution_count": 6,
      "metadata": {
        "colab": {
          "base_uri": "https://localhost:8080/"
        },
        "id": "xVnVj6JgKKg3",
        "outputId": "0772e7b8-febb-493a-9ea1-59bcf33de518"
      },
      "outputs": [
        {
          "output_type": "stream",
          "name": "stdout",
          "text": [
            "Iteration:  1\n",
            "The predicted value is:  0\n",
            "The actual value:  0\n",
            "The predicted value is:  1\n",
            "The actual value:  0\n",
            "The predicted value is:  1\n",
            "The actual value:  0\n",
            "The predicted value is:  1\n",
            "The actual value:  1\n",
            "---------------\n",
            "Iteration:  2\n",
            "The predicted value is:  0\n",
            "The actual value:  0\n",
            "The predicted value is:  1\n",
            "The actual value:  0\n",
            "The predicted value is:  1\n",
            "The actual value:  0\n",
            "The predicted value is:  1\n",
            "The actual value:  1\n",
            "---------------\n",
            "Final weight_1 1.9\n",
            "Final_weight 2 1.9\n",
            "Final_bias 1.0\n"
          ]
        }
      ],
      "source": [
        "import numpy as np\n",
        "\n",
        "A = [0, 0, 1, 1]\n",
        "B = [0, 1, 0, 1]\n",
        "D_n = [0, 0, 0, 1]\n",
        "w_1 = 0.9\n",
        "w_2 = 0.9\n",
        "x_0 = 1\n",
        "w_0 = 0\n",
        "learning_rate = 0.5\n",
        "thres = 0.5\n",
        "n = 2\n",
        "\n",
        "def activation_function(o):\n",
        "    if o > thres:\n",
        "        return 1\n",
        "    else:\n",
        "        return 0\n",
        "\n",
        "for i in range(n):\n",
        "    print(\"Iteration: \", i + 1)\n",
        "    for j, k, l in zip(A, B, D_n):\n",
        "        o = w_1 * j + w_2 * k + x_0 * w_0\n",
        "        h = activation_function(o)\n",
        "        print(\"The predicted value is: \", h)\n",
        "        print(\"The actual value: \", l)\n",
        "\n",
        "\n",
        "        if l == 1:\n",
        "            w_1 = w_1 + learning_rate * j * l\n",
        "            w_2 = w_2 + learning_rate * k * l\n",
        "            w_0 = w_0 + learning_rate * x_0 * l\n",
        "\n",
        "\n",
        "    print(\"---------------\")\n",
        "\n",
        "print(\"Final weight_1\", w_1)\n",
        "print(\"Final_weight 2\", w_2)\n",
        "print(\"Final_bias\", w_0)"
      ]
    },
    {
      "cell_type": "code",
      "source": [],
      "metadata": {
        "id": "KvyXGRGhTOS1"
      },
      "execution_count": null,
      "outputs": []
    }
  ]
}