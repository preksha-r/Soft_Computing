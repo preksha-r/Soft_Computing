{
  "nbformat": 4,
  "nbformat_minor": 0,
  "metadata": {
    "colab": {
      "provenance": []
    },
    "kernelspec": {
      "name": "python3",
      "display_name": "Python 3"
    },
    "language_info": {
      "name": "python"
    }
  },
  "cells": [
    {
      "cell_type": "code",
      "execution_count": 2,
      "metadata": {
        "colab": {
          "base_uri": "https://localhost:8080/"
        },
        "id": "Atmrzcm1FY5Z",
        "outputId": "ae29012e-5d69-4e0b-e2ef-2866ab73b324"
      },
      "outputs": [
        {
          "output_type": "stream",
          "name": "stdout",
          "text": [
            "True label: 1\n",
            "Individual Estimator Predictions:\n",
            "Model 1: 1\n",
            "Model 2: 1\n",
            "Model 3: 1\n",
            "Model 4: 1\n",
            "Model 5: 2\n",
            "Bagging Final Prediction: 1\n"
          ]
        }
      ],
      "source": [
        "from sklearn.datasets import load_iris\n",
        "from sklearn.model_selection import train_test_split\n",
        "from sklearn.ensemble import BaggingClassifier\n",
        "from sklearn.tree import DecisionTreeClassifier\n",
        "\n",
        "# Load data\n",
        "X, y = load_iris(return_X_y=True)\n",
        "X_train, X_test, y_train, y_test = train_test_split(X, y, test_size=0.3, random_state=42)\n",
        "\n",
        "# Bagging with random features and shallow trees\n",
        "bag = BaggingClassifier(\n",
        "    estimator=DecisionTreeClassifier(max_depth=1),\n",
        "    n_estimators=5,\n",
        "    max_samples=10,\n",
        "    max_features=4,\n",
        "    random_state=42\n",
        ")\n",
        "\n",
        "# Train\n",
        "bag.fit(X_train, y_train)\n",
        "\n",
        "# Test sample\n",
        "sample = X_test[0].reshape(1, -1)\n",
        "print(\"True label:\", y_test[0])\n",
        "print(\"Individual Estimator Predictions:\")\n",
        "for i, est in enumerate(bag.estimators_):\n",
        "    feats = bag.estimators_features_[i]\n",
        "    print(f\"Model {i+1}: {est.predict(sample[:, feats])[0]}\")\n",
        "\n",
        "# Bagging prediction\n",
        "print(\"Bagging Final Prediction:\", bag.predict(sample)[0])\n"
      ]
    },
    {
      "cell_type": "code",
      "source": [],
      "metadata": {
        "id": "ngcH9xjBFivi"
      },
      "execution_count": null,
      "outputs": []
    }
  ]
}