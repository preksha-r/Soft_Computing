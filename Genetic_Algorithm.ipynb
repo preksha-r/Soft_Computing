{
  "nbformat": 4,
  "nbformat_minor": 0,
  "metadata": {
    "colab": {
      "provenance": []
    },
    "kernelspec": {
      "name": "python3",
      "display_name": "Python 3"
    },
    "language_info": {
      "name": "python"
    }
  },
  "cells": [
    {
      "cell_type": "markdown",
      "source": [
        "Genetic Algorithm"
      ],
      "metadata": {
        "id": "KUrRm0b3EpXz"
      }
    },
    {
      "cell_type": "code",
      "execution_count": 6,
      "metadata": {
        "colab": {
          "base_uri": "https://localhost:8080/"
        },
        "id": "l0AlPt-cEn0G",
        "outputId": "aa982469-799d-4add-c36e-594cc1ed15af"
      },
      "outputs": [
        {
          "output_type": "stream",
          "name": "stdout",
          "text": [
            "Generation 1: Best Fitness = 961, Best Solution = 31\n",
            "Generation 2: Best Fitness = 961, Best Solution = 31\n",
            "Generation 3: Best Fitness = 961, Best Solution = 31\n",
            "Generation 4: Best Fitness = 961, Best Solution = 31\n",
            "Generation 5: Best Fitness = 961, Best Solution = 31\n",
            "Generation 6: Best Fitness = 961, Best Solution = 31\n",
            "Generation 7: Best Fitness = 961, Best Solution = 31\n",
            "Generation 8: Best Fitness = 961, Best Solution = 31\n",
            "Generation 9: Best Fitness = 961, Best Solution = 31\n",
            "Generation 10: Best Fitness = 961, Best Solution = 31\n",
            "Generation 11: Best Fitness = 961, Best Solution = 31\n",
            "Generation 12: Best Fitness = 961, Best Solution = 31\n",
            "Generation 13: Best Fitness = 961, Best Solution = 31\n",
            "Generation 14: Best Fitness = 961, Best Solution = 31\n",
            "Generation 15: Best Fitness = 961, Best Solution = 31\n",
            "Generation 16: Best Fitness = 961, Best Solution = 31\n",
            "Generation 17: Best Fitness = 961, Best Solution = 31\n",
            "Generation 18: Best Fitness = 961, Best Solution = 31\n",
            "Generation 19: Best Fitness = 961, Best Solution = 31\n",
            "Generation 20: Best Fitness = 961, Best Solution = 31\n",
            "Best solution found: 31, Fitness: 961\n"
          ]
        }
      ],
      "source": [
        "import random\n",
        "def fitness(x):\n",
        "    return x ** 2\n",
        "\n",
        "def create_population(size):\n",
        "    return [random.randint(0, 31) for _ in range(size)]\n",
        "\n",
        "def select(population):\n",
        "    return random.choice(population), random.choice(population)\n",
        "\n",
        "\n",
        "def crossover(parent1, parent2):\n",
        "    return (parent1 + parent2) // 2, (parent1 + parent2) // 2\n",
        "\n",
        "def mutate(x):\n",
        "    if random.random() < 0.1:\n",
        "        return random.randint(0, 31)\n",
        "    return x\n",
        "\n",
        "\n",
        "def genetic_algorithm(population_size, generations):\n",
        "\n",
        "    population = create_population(population_size)\n",
        "\n",
        "    for generation in range(generations):\n",
        "\n",
        "        parent1, parent2 = select(population)\n",
        "\n",
        "\n",
        "        child1, child2 = crossover(parent1, parent2)\n",
        "\n",
        "\n",
        "        child1 = mutate(child1)\n",
        "        child2 = mutate(child2)\n",
        "\n",
        "\n",
        "        population.sort(key=fitness)\n",
        "        population[0] = child1\n",
        "        population[1] = child2\n",
        "\n",
        "\n",
        "        best_solution = max(population, key=fitness)\n",
        "        print(f\"Generation {generation + 1}: Best Fitness = {fitness(best_solution)}, Best Solution = {best_solution}\")\n",
        "\n",
        "\n",
        "    return max(population, key=fitness)\n",
        "\n",
        "\n",
        "population_size = 10\n",
        "generations = 20\n",
        "\n",
        "best = genetic_algorithm(population_size, generations)\n",
        "print(f\"Best solution found: {best}, Fitness: {fitness(best)}\")\n"
      ]
    },
    {
      "cell_type": "code",
      "source": [],
      "metadata": {
        "id": "OhU2rShTFVx1"
      },
      "execution_count": 3,
      "outputs": []
    }
  ]
}