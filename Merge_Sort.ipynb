{
  "nbformat": 4,
  "nbformat_minor": 0,
  "metadata": {
    "colab": {
      "provenance": []
    },
    "kernelspec": {
      "name": "python3",
      "display_name": "Python 3"
    },
    "language_info": {
      "name": "python"
    }
  },
  "cells": [
    {
      "cell_type": "markdown",
      "source": [
        "Merge Sort"
      ],
      "metadata": {
        "id": "KUrRm0b3EpXz"
      }
    },
    {
      "cell_type": "code",
      "execution_count": 1,
      "metadata": {
        "id": "l0AlPt-cEn0G"
      },
      "outputs": [],
      "source": [
        "def merge_sort(arr):\n",
        "\n",
        "    if len(arr) > 1:\n",
        "\n",
        "        mid = len(arr) // 2\n",
        "\n",
        "\n",
        "        left_half = arr[:mid]\n",
        "        right_half = arr[mid:]\n",
        "\n",
        "        print(f\"Dividing: {arr} -> Left: {left_half}, Right: {right_half}\")\n",
        "\n",
        "\n",
        "        merge_sort(left_half)\n",
        "\n",
        "\n",
        "        merge_sort(right_half)\n",
        "\n",
        "\n",
        "        merge(arr, left_half, right_half)"
      ]
    },
    {
      "cell_type": "code",
      "source": [
        "def merge(arr, left_half, right_half):\n",
        "    i = j = k = 0\n",
        "\n",
        "\n",
        "    while i < len(left_half) and j < len(right_half):\n",
        "        if left_half[i] < right_half[j]:\n",
        "            arr[k] = left_half[i]\n",
        "            i += 1\n",
        "        else:\n",
        "            arr[k] = right_half[j]\n",
        "            j += 1\n",
        "        k += 1\n",
        "\n",
        "\n",
        "    while i < len(left_half):\n",
        "        arr[k] = left_half[i]\n",
        "        i += 1\n",
        "        k += 1\n",
        "\n",
        "\n",
        "    while j < len(right_half):\n",
        "        arr[k] = right_half[j]\n",
        "        j += 1\n",
        "        k += 1\n",
        "\n",
        "    print(f\"Merging: {arr}\")"
      ],
      "metadata": {
        "id": "7fg-fHy8E5QE"
      },
      "execution_count": 2,
      "outputs": []
    },
    {
      "cell_type": "code",
      "source": [
        "arr = [38, 27, 43, 3, 9, 82, 10]\n",
        "print(f\"Original Array: {arr}\")\n",
        "merge_sort(arr)\n",
        "print(f\"Sorted Array: {arr}\")"
      ],
      "metadata": {
        "colab": {
          "base_uri": "https://localhost:8080/"
        },
        "id": "dzzfLbhnFTb0",
        "outputId": "dbe18732-34b7-42c1-fdd9-1b3b9a44917a"
      },
      "execution_count": 3,
      "outputs": [
        {
          "output_type": "stream",
          "name": "stdout",
          "text": [
            "Original Array: [38, 27, 43, 3, 9, 82, 10]\n",
            "Dividing: [38, 27, 43, 3, 9, 82, 10] -> Left: [38, 27, 43], Right: [3, 9, 82, 10]\n",
            "Dividing: [38, 27, 43] -> Left: [38], Right: [27, 43]\n",
            "Dividing: [27, 43] -> Left: [27], Right: [43]\n",
            "Merging: [27, 43]\n",
            "Merging: [27, 38, 43]\n",
            "Dividing: [3, 9, 82, 10] -> Left: [3, 9], Right: [82, 10]\n",
            "Dividing: [3, 9] -> Left: [3], Right: [9]\n",
            "Merging: [3, 9]\n",
            "Dividing: [82, 10] -> Left: [82], Right: [10]\n",
            "Merging: [10, 82]\n",
            "Merging: [3, 9, 10, 82]\n",
            "Merging: [3, 9, 10, 27, 38, 43, 82]\n",
            "Sorted Array: [3, 9, 10, 27, 38, 43, 82]\n"
          ]
        }
      ]
    },
    {
      "cell_type": "code",
      "source": [],
      "metadata": {
        "id": "OhU2rShTFVx1"
      },
      "execution_count": null,
      "outputs": []
    }
  ]
}