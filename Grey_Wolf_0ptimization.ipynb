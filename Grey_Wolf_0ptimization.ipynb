{
  "nbformat": 4,
  "nbformat_minor": 0,
  "metadata": {
    "colab": {
      "provenance": []
    },
    "kernelspec": {
      "name": "python3",
      "display_name": "Python 3"
    },
    "language_info": {
      "name": "python"
    }
  },
  "cells": [
    {
      "cell_type": "code",
      "execution_count": 1,
      "metadata": {
        "colab": {
          "base_uri": "https://localhost:8080/"
        },
        "id": "Atmrzcm1FY5Z",
        "outputId": "c0f3de89-692b-4c9c-bdeb-fee59f949472"
      },
      "outputs": [
        {
          "output_type": "stream",
          "name": "stdout",
          "text": [
            "Iter 1: Best = -6.4880, Value = 42.0941\n",
            "Iter 2: Best = 0.2990, Value = 0.0894\n",
            "Iter 3: Best = -0.2186, Value = 0.0478\n",
            "Iter 4: Best = 0.0641, Value = 0.0041\n",
            "Iter 5: Best = -0.0080, Value = 0.0001\n",
            "Iter 6: Best = 0.1599, Value = 0.0256\n",
            "Iter 7: Best = 0.1304, Value = 0.0170\n",
            "Iter 8: Best = 0.1514, Value = 0.0229\n",
            "Iter 9: Best = 0.1459, Value = 0.0213\n",
            "Iter 10: Best = 0.1425, Value = 0.0203\n",
            "Best solution: 0.1425 with value: 0.0203\n"
          ]
        }
      ],
      "source": [
        "import random\n",
        "\n",
        "def f(x): return x*x\n",
        "\n",
        "wolves = [random.uniform(-10, 10) for _ in range(5)]\n",
        "a = 2\n",
        "\n",
        "for iter in range(10):\n",
        "    wolves.sort(key=f)\n",
        "    alpha, beta, delta = wolves[0], wolves[1], wolves[2]\n",
        "    a -= 2 / 10\n",
        "    new_wolves = []\n",
        "    for w in wolves:\n",
        "        r1, r2 = random.random(), random.random()\n",
        "        A = 2 * a * r1 - a\n",
        "        C = 2 * r2\n",
        "        D_alpha = abs(C * alpha - w)\n",
        "        X1 = alpha - A * D_alpha\n",
        "\n",
        "        r1, r2 = random.random(), random.random()\n",
        "        A = 2 * a * r1 - a\n",
        "        C = 2 * r2\n",
        "        D_beta = abs(C * beta - w)\n",
        "        X2 = beta - A * D_beta\n",
        "\n",
        "        r1, r2 = random.random(), random.random()\n",
        "        A = 2 * a * r1 - a\n",
        "        C = 2 * r2\n",
        "        D_delta = abs(C * delta - w)\n",
        "        X3 = delta - A * D_delta\n",
        "\n",
        "        new_wolves.append((X1 + X2 + X3) / 3)\n",
        "    wolves = new_wolves\n",
        "    print(f\"Iter {iter+1}: Best = {alpha:.4f}, Value = {f(alpha):.4f}\")\n",
        "\n",
        "print(f\"Best solution: {alpha:.4f} with value: {f(alpha):.4f}\")\n"
      ]
    },
    {
      "cell_type": "code",
      "source": [],
      "metadata": {
        "id": "ngcH9xjBFivi"
      },
      "execution_count": null,
      "outputs": []
    }
  ]
}