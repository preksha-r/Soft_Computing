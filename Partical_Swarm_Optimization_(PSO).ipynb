{
  "nbformat": 4,
  "nbformat_minor": 0,
  "metadata": {
    "colab": {
      "provenance": []
    },
    "kernelspec": {
      "name": "python3",
      "display_name": "Python 3"
    },
    "language_info": {
      "name": "python"
    }
  },
  "cells": [
    {
      "cell_type": "code",
      "execution_count": 2,
      "metadata": {
        "colab": {
          "base_uri": "https://localhost:8080/"
        },
        "id": "xVnVj6JgKKg3",
        "outputId": "cfedc35a-611e-4dc2-a95f-ce03399b518e"
      },
      "outputs": [
        {
          "output_type": "stream",
          "name": "stdout",
          "text": [
            "Best Position: [-1.19628927e-09 -3.31868324e-09  4.91543833e-09 -1.47217348e-09\n",
            " -7.54881738e-11]\n"
          ]
        }
      ],
      "source": [
        "import numpy as np\n",
        "\n",
        "def sphere_function(x):\n",
        "    return np.sum(x**2)\n",
        "\n",
        "dim = 5\n",
        "bounds = (-10, 10)\n",
        "num_particles = 30\n",
        "max_iter = 100\n",
        "w, c1, c2 = 0.5, 1.5, 1.5\n",
        "\n",
        "\n",
        "positions = np.random.uniform(bounds[0], bounds[1], (num_particles, dim))\n",
        "velocities = np.random.uniform(-1, 1, (num_particles, dim))\n",
        "best_positions = np.copy(positions)\n",
        "best_scores = np.array([sphere_function(p) for p in positions])\n",
        "global_best_position = best_positions[np.argmin(best_scores)]\n",
        "global_best_score = np.min(best_scores)\n",
        "\n",
        "\n",
        "for _ in range(max_iter):\n",
        "    for i in range(num_particles):\n",
        "        score = sphere_function(positions[i])\n",
        "        if score < best_scores[i]:\n",
        "            best_scores[i] = score\n",
        "            best_positions[i] = positions[i]\n",
        "        if score < global_best_score:\n",
        "            global_best_score = score\n",
        "            global_best_position = positions[i]\n",
        "\n",
        "    r1, r2 = np.random.rand(num_particles, dim), np.random.rand(num_particles, dim)\n",
        "    velocities = w * velocities + c1 * r1 * (best_positions - positions) + c2 * r2 * (global_best_position - positions)\n",
        "    positions = np.clip(positions + velocities, bounds[0], bounds[1])\n",
        "\n",
        "print(\"Best Position:\", global_best_position)"
      ]
    },
    {
      "cell_type": "code",
      "source": [],
      "metadata": {
        "id": "KvyXGRGhTOS1"
      },
      "execution_count": null,
      "outputs": []
    }
  ]
}